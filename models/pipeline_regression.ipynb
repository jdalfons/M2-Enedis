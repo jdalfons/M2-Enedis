{
 "cells": [
  {
   "cell_type": "markdown",
   "metadata": {},
   "source": [
    "# Importation des librairies"
   ]
  },
  {
   "cell_type": "code",
   "execution_count": 2,
   "metadata": {},
   "outputs": [],
   "source": [
    "#Importation des librairies \n",
    "import pandas as pd \n",
    "import os\n",
    "from sklearn.pipeline import Pipeline\n",
    "from sklearn.compose import ColumnTransformer\n",
    "from sklearn.impute import SimpleImputer\n",
    "from sklearn.tree import DecisionTreeRegressor\n",
    "import category_encoders as ce\n",
    "import joblib"
   ]
  },
  {
   "cell_type": "code",
   "execution_count": 3,
   "metadata": {},
   "outputs": [],
   "source": [
    "os.chdir(\"/Users/pierrebourbon/Documents/PRO/Data/Master_SISE/Programmation_Python/Projet\")"
   ]
  },
  {
   "cell_type": "markdown",
   "metadata": {},
   "source": [
    "# Chargement des données "
   ]
  },
  {
   "cell_type": "code",
   "execution_count": 4,
   "metadata": {},
   "outputs": [],
   "source": [
    "df = pd.read_excel(\"extract-dpe.xlsx\")"
   ]
  },
  {
   "cell_type": "code",
   "execution_count": 186,
   "metadata": {},
   "outputs": [],
   "source": [
    "#Choix des variables explicatives\n",
    "\n",
    "var_explicatives = [\"Etiquette_DPE\", \n",
    "                    \"Type_bâtiment\", \n",
    "                    \"Année_construction\", \n",
    "                    \"Classe_inertie_bâtiment\", \n",
    "                    \"Hauteur_sous-plafond\", \n",
    "                    \"Surface_habitable_logement\",  \n",
    "                    \"Type_énergie_principale_chauffage\", \n",
    "                    \"Isolation_toiture_(0/1)\", \"Code_INSEE_(BAN)\"]\n",
    "\n",
    "target = [\"Conso_5_usages_é_finale\"]"
   ]
  },
  {
   "cell_type": "code",
   "execution_count": 187,
   "metadata": {},
   "outputs": [],
   "source": [
    "#Création d'un data frame avec les variables explicatives et la target\n",
    "df_dpe = df[var_explicatives+target]"
   ]
  },
  {
   "cell_type": "markdown",
   "metadata": {},
   "source": [
    "# Suppression des outliers, NA de la target et Type_batiment == immeuble"
   ]
  },
  {
   "cell_type": "code",
   "execution_count": 188,
   "metadata": {},
   "outputs": [
    {
     "data": {
      "text/html": [
       "<div>\n",
       "<style scoped>\n",
       "    .dataframe tbody tr th:only-of-type {\n",
       "        vertical-align: middle;\n",
       "    }\n",
       "\n",
       "    .dataframe tbody tr th {\n",
       "        vertical-align: top;\n",
       "    }\n",
       "\n",
       "    .dataframe thead th {\n",
       "        text-align: right;\n",
       "    }\n",
       "</style>\n",
       "<table border=\"1\" class=\"dataframe\">\n",
       "  <thead>\n",
       "    <tr style=\"text-align: right;\">\n",
       "      <th></th>\n",
       "      <th>Année_construction</th>\n",
       "      <th>Hauteur_sous-plafond</th>\n",
       "      <th>Surface_habitable_logement</th>\n",
       "      <th>Isolation_toiture_(0/1)</th>\n",
       "      <th>Conso_5_usages_é_finale</th>\n",
       "    </tr>\n",
       "  </thead>\n",
       "  <tbody>\n",
       "    <tr>\n",
       "      <th>count</th>\n",
       "      <td>186204.000000</td>\n",
       "      <td>313695.000000</td>\n",
       "      <td>311641.000000</td>\n",
       "      <td>186839.000000</td>\n",
       "      <td>313687.000000</td>\n",
       "    </tr>\n",
       "    <tr>\n",
       "      <th>mean</th>\n",
       "      <td>1975.358322</td>\n",
       "      <td>2.589259</td>\n",
       "      <td>65.811322</td>\n",
       "      <td>0.355156</td>\n",
       "      <td>10499.919965</td>\n",
       "    </tr>\n",
       "    <tr>\n",
       "      <th>std</th>\n",
       "      <td>28.364826</td>\n",
       "      <td>0.235743</td>\n",
       "      <td>34.695060</td>\n",
       "      <td>0.478562</td>\n",
       "      <td>9562.245845</td>\n",
       "    </tr>\n",
       "    <tr>\n",
       "      <th>min</th>\n",
       "      <td>1731.000000</td>\n",
       "      <td>1.100000</td>\n",
       "      <td>1.000000</td>\n",
       "      <td>0.000000</td>\n",
       "      <td>306.300000</td>\n",
       "    </tr>\n",
       "    <tr>\n",
       "      <th>25%</th>\n",
       "      <td>1958.000000</td>\n",
       "      <td>2.500000</td>\n",
       "      <td>44.000000</td>\n",
       "      <td>0.000000</td>\n",
       "      <td>4999.500000</td>\n",
       "    </tr>\n",
       "    <tr>\n",
       "      <th>50%</th>\n",
       "      <td>1973.000000</td>\n",
       "      <td>2.500000</td>\n",
       "      <td>63.000000</td>\n",
       "      <td>0.000000</td>\n",
       "      <td>7982.600000</td>\n",
       "    </tr>\n",
       "    <tr>\n",
       "      <th>75%</th>\n",
       "      <td>1998.000000</td>\n",
       "      <td>2.500000</td>\n",
       "      <td>79.700000</td>\n",
       "      <td>1.000000</td>\n",
       "      <td>12970.100000</td>\n",
       "    </tr>\n",
       "    <tr>\n",
       "      <th>max</th>\n",
       "      <td>2024.000000</td>\n",
       "      <td>4.600000</td>\n",
       "      <td>365.200000</td>\n",
       "      <td>1.000000</td>\n",
       "      <td>111399.400000</td>\n",
       "    </tr>\n",
       "  </tbody>\n",
       "</table>\n",
       "</div>"
      ],
      "text/plain": [
       "       Année_construction  ...  Conso_5_usages_é_finale\n",
       "count       186204.000000  ...            313687.000000\n",
       "mean          1975.358322  ...             10499.919965\n",
       "std             28.364826  ...              9562.245845\n",
       "min           1731.000000  ...               306.300000\n",
       "25%           1958.000000  ...              4999.500000\n",
       "50%           1973.000000  ...              7982.600000\n",
       "75%           1998.000000  ...             12970.100000\n",
       "max           2024.000000  ...            111399.400000\n",
       "\n",
       "[8 rows x 5 columns]"
      ]
     },
     "execution_count": 188,
     "metadata": {},
     "output_type": "execute_result"
    }
   ],
   "source": [
    "#Supression des outliers avec la méthode des quartiles [q1 - 1.5 * IQR , q3 + 1.5 * IQR]\n",
    "\n",
    "#Sélection des vars quanti\n",
    "df_quanti = df_dpe.select_dtypes(include=['number'])\n",
    "\n",
    "#Calcul du IQR pour chaque colonne \n",
    "Quanti_bas = df_quanti.quantile(0.025)\n",
    "Quanti_haut = df_quanti.quantile(0.975)\n",
    "IQR = Quanti_haut-Quanti_bas\n",
    "\n",
    "#Filtrage des données sans outliers \n",
    "df_dpe_filtered = df_dpe[~((df_quanti < (Q1 - 1.5 * IQR)) | (df_quanti > (Q3 + 1.5 * IQR))).any(axis=1)]\n",
    "\n",
    "df_dpe_filtered.describe()"
   ]
  },
  {
   "cell_type": "code",
   "execution_count": 189,
   "metadata": {},
   "outputs": [
    {
     "data": {
      "text/plain": [
       "Etiquette_DPE                             0\n",
       "Type_bâtiment                             0\n",
       "Année_construction                   127491\n",
       "Classe_inertie_bâtiment                2063\n",
       "Hauteur_sous-plafond                      0\n",
       "Surface_habitable_logement             2054\n",
       "Type_énergie_principale_chauffage     10547\n",
       "Isolation_toiture_(0/1)              126856\n",
       "Code_INSEE_(BAN)                          0\n",
       "Conso_5_usages_é_finale                   0\n",
       "dtype: int64"
      ]
     },
     "execution_count": 189,
     "metadata": {},
     "output_type": "execute_result"
    }
   ],
   "source": [
    "#On enlève les NA de la conso \n",
    "df_dpe_filtered = df_dpe_filtered.dropna(subset=[\"Conso_5_usages_é_finale\"])\n",
    "df_dpe_filtered.isnull().sum()"
   ]
  },
  {
   "cell_type": "code",
   "execution_count": 190,
   "metadata": {},
   "outputs": [
    {
     "data": {
      "text/plain": [
       "(311814, 10)"
      ]
     },
     "execution_count": 190,
     "metadata": {},
     "output_type": "execute_result"
    }
   ],
   "source": [
    "#On enlève les \"immeubles\"\n",
    "df_dpe_filtered = df_dpe_filtered[df_dpe_filtered['Type_bâtiment'] != 'immeuble']\n",
    "df_dpe_filtered.shape"
   ]
  },
  {
   "cell_type": "code",
   "execution_count": 191,
   "metadata": {},
   "outputs": [],
   "source": [
    "#On change le type de Isolation pour pouvoir imputer une valeur string \n",
    "df_dpe_filtered[\"Isolation_toiture_(0/1)\"] = df_dpe_filtered[\"Isolation_toiture_(0/1)\"].astype(object)"
   ]
  },
  {
   "cell_type": "markdown",
   "metadata": {},
   "source": [
    "# Train / Test Split"
   ]
  },
  {
   "cell_type": "code",
   "execution_count": 192,
   "metadata": {},
   "outputs": [],
   "source": [
    "#Séparation variables explicatives et variable cible \n",
    "X = df_dpe_filtered[var_explicatives]\n",
    "y = df_dpe_filtered[target]"
   ]
  },
  {
   "cell_type": "code",
   "execution_count": 193,
   "metadata": {},
   "outputs": [
    {
     "data": {
      "text/plain": [
       "(218269, 9)"
      ]
     },
     "execution_count": 193,
     "metadata": {},
     "output_type": "execute_result"
    }
   ],
   "source": [
    "#Train / Test Split\n",
    "from sklearn.model_selection import train_test_split\n",
    "X_train, X_test, y_train, y_test = train_test_split(X, y, test_size=0.3, random_state=0)\n",
    "\n",
    "X_train.shape"
   ]
  },
  {
   "cell_type": "markdown",
   "metadata": {},
   "source": [
    "# Pipeline "
   ]
  },
  {
   "cell_type": "code",
   "execution_count": 194,
   "metadata": {},
   "outputs": [],
   "source": [
    "#Colonnes numériques et catégorielles / traitement spécifique pour isolation toiture \n",
    "num_features = [\"Année_construction\", \"Hauteur_sous-plafond\", \"Surface_habitable_logement\"]\n",
    "iso_feature = [\"Isolation_toiture_(0/1)\"]\n",
    "cat_features = [\"Etiquette_DPE\", \"Type_bâtiment\", \"Classe_inertie_bâtiment\", \"Type_énergie_principale_chauffage\", \"Code_INSEE_(BAN)\"]"
   ]
  },
  {
   "cell_type": "code",
   "execution_count": 195,
   "metadata": {},
   "outputs": [],
   "source": [
    "#Pipeline pour les colonnes numériques \n",
    "num_transformer = Pipeline(steps=[\n",
    "    ('imputer', SimpleImputer(strategy='mean'))\n",
    "])"
   ]
  },
  {
   "cell_type": "code",
   "execution_count": 196,
   "metadata": {},
   "outputs": [],
   "source": [
    "#Pipeline pour la colonne isolation toiture \n",
    "iso_transformer = Pipeline(steps=[\n",
    "    ('imputer', SimpleImputer(strategy='constant', fill_value='Inconnue'))\n",
    "])"
   ]
  },
  {
   "cell_type": "code",
   "execution_count": 197,
   "metadata": {},
   "outputs": [
    {
     "data": {
      "text/html": [
       "<div>\n",
       "<style scoped>\n",
       "    .dataframe tbody tr th:only-of-type {\n",
       "        vertical-align: middle;\n",
       "    }\n",
       "\n",
       "    .dataframe tbody tr th {\n",
       "        vertical-align: top;\n",
       "    }\n",
       "\n",
       "    .dataframe thead th {\n",
       "        text-align: right;\n",
       "    }\n",
       "</style>\n",
       "<table border=\"1\" class=\"dataframe\">\n",
       "  <thead>\n",
       "    <tr style=\"text-align: right;\">\n",
       "      <th></th>\n",
       "      <th>Etiquette_DPE</th>\n",
       "      <th>Type_bâtiment</th>\n",
       "      <th>Année_construction</th>\n",
       "      <th>Classe_inertie_bâtiment</th>\n",
       "      <th>Hauteur_sous-plafond</th>\n",
       "      <th>Surface_habitable_logement</th>\n",
       "      <th>Type_énergie_principale_chauffage</th>\n",
       "      <th>Isolation_toiture_(0/1)</th>\n",
       "      <th>Code_INSEE_(BAN)</th>\n",
       "    </tr>\n",
       "  </thead>\n",
       "  <tbody>\n",
       "    <tr>\n",
       "      <th>65003</th>\n",
       "      <td>6718.527208</td>\n",
       "      <td>20144.917377</td>\n",
       "      <td>1800.0</td>\n",
       "      <td>10953.227514</td>\n",
       "      <td>2.5</td>\n",
       "      <td>215.0</td>\n",
       "      <td>11703.464228</td>\n",
       "      <td>12535.042550</td>\n",
       "      <td>16498.166982</td>\n",
       "    </tr>\n",
       "    <tr>\n",
       "      <th>175942</th>\n",
       "      <td>16241.799295</td>\n",
       "      <td>8977.069565</td>\n",
       "      <td>NaN</td>\n",
       "      <td>9449.518676</td>\n",
       "      <td>3.9</td>\n",
       "      <td>39.3</td>\n",
       "      <td>11703.464228</td>\n",
       "      <td>9426.645715</td>\n",
       "      <td>10332.399339</td>\n",
       "    </tr>\n",
       "    <tr>\n",
       "      <th>248465</th>\n",
       "      <td>10209.585069</td>\n",
       "      <td>8977.069565</td>\n",
       "      <td>2010.0</td>\n",
       "      <td>9449.518676</td>\n",
       "      <td>2.5</td>\n",
       "      <td>39.8</td>\n",
       "      <td>6045.263729</td>\n",
       "      <td>12535.042550</td>\n",
       "      <td>8037.725584</td>\n",
       "    </tr>\n",
       "    <tr>\n",
       "      <th>135673</th>\n",
       "      <td>13274.676631</td>\n",
       "      <td>8977.069565</td>\n",
       "      <td>NaN</td>\n",
       "      <td>10953.227514</td>\n",
       "      <td>2.7</td>\n",
       "      <td>17.2</td>\n",
       "      <td>6045.263729</td>\n",
       "      <td>9666.307213</td>\n",
       "      <td>8862.100964</td>\n",
       "    </tr>\n",
       "    <tr>\n",
       "      <th>219517</th>\n",
       "      <td>13274.676631</td>\n",
       "      <td>8977.069565</td>\n",
       "      <td>NaN</td>\n",
       "      <td>10953.227514</td>\n",
       "      <td>2.8</td>\n",
       "      <td>48.3</td>\n",
       "      <td>6045.263729</td>\n",
       "      <td>9666.307213</td>\n",
       "      <td>6851.265562</td>\n",
       "    </tr>\n",
       "  </tbody>\n",
       "</table>\n",
       "</div>"
      ],
      "text/plain": [
       "        Etiquette_DPE  Type_bâtiment  ...  Isolation_toiture_(0/1)  Code_INSEE_(BAN)\n",
       "65003     6718.527208   20144.917377  ...             12535.042550      16498.166982\n",
       "175942   16241.799295    8977.069565  ...              9426.645715      10332.399339\n",
       "248465   10209.585069    8977.069565  ...             12535.042550       8037.725584\n",
       "135673   13274.676631    8977.069565  ...              9666.307213       8862.100964\n",
       "219517   13274.676631    8977.069565  ...              9666.307213       6851.265562\n",
       "\n",
       "[5 rows x 9 columns]"
      ]
     },
     "execution_count": 197,
     "metadata": {},
     "output_type": "execute_result"
    }
   ],
   "source": [
    "#Pipeline pour les colonnes catégorielles \n",
    "# Étape 1 : Imputer les valeurs manquantes dans les colonnes catégorielles\n",
    "categorical_imputer = SimpleImputer(strategy='most_frequent')\n",
    "X_train_imputed = X_train.copy()  # Copie des données d'origine pour éviter les modifications\n",
    "X_train_imputed[cat_features] = categorical_imputer.fit_transform(X_train[cat_features])\n",
    "\n",
    "# Étape 2 : Appliquer le TargetEncoder sur les colonnes catégorielles déjà imputées\n",
    "target_encoder = ce.TargetEncoder(cols=cat_features+iso_feature)\n",
    "X_train_encoded = target_encoder.fit_transform(X_train_imputed, y_train)\n",
    "\n",
    "# De même pour les données de test\n",
    "X_test_imputed = X_test.copy()\n",
    "X_test_imputed[cat_features] = categorical_imputer.transform(X_test[cat_features])\n",
    "X_test_encoded = target_encoder.transform(X_test_imputed)\n",
    "\n",
    "X_test_encoded.head()"
   ]
  },
  {
   "cell_type": "code",
   "execution_count": 198,
   "metadata": {},
   "outputs": [],
   "source": [
    "#Prepocessor \n",
    "preprocessor = ColumnTransformer(\n",
    "    transformers=[\n",
    "        ('num', num_transformer, num_features)\n",
    "    ], remainder='passthrough'# Conserve les colonnes déjà encodées (catégorielles)\n",
    ")"
   ]
  },
  {
   "cell_type": "code",
   "execution_count": 199,
   "metadata": {},
   "outputs": [],
   "source": [
    "#Pipeline final avec la preprocessor et le modèle \n",
    "pipeline = Pipeline(steps=[\n",
    "    ('preprocessor', preprocessor),\n",
    "    ('regression', DecisionTreeRegressor(max_depth=10, min_samples_leaf=4, min_samples_split=10))\n",
    "])"
   ]
  },
  {
   "cell_type": "code",
   "execution_count": 200,
   "metadata": {},
   "outputs": [
    {
     "data": {
      "text/plain": [
       "['pipeline_ml_regression.joblib']"
      ]
     },
     "execution_count": 200,
     "metadata": {},
     "output_type": "execute_result"
    }
   ],
   "source": [
    "# Pipeline final avec les données encodées et imputées\n",
    "pipeline.fit(X_train_encoded, y_train)\n",
    "\n",
    "# Sauvegarde du pipeline complet\n",
    "joblib.dump(pipeline, 'pipeline_ml_regression.joblib')"
   ]
  }
 ],
 "metadata": {
  "kernelspec": {
   "display_name": "projet_pythonML",
   "language": "python",
   "name": "python3"
  },
  "language_info": {
   "codemirror_mode": {
    "name": "ipython",
    "version": 3
   },
   "file_extension": ".py",
   "mimetype": "text/x-python",
   "name": "python",
   "nbconvert_exporter": "python",
   "pygments_lexer": "ipython3",
   "version": "3.9.6"
  }
 },
 "nbformat": 4,
 "nbformat_minor": 2
}
