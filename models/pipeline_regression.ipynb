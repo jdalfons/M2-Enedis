{
 "cells": [
  {
   "cell_type": "markdown",
   "metadata": {},
   "source": [
    "# Importation des librairies"
   ]
  },
  {
   "cell_type": "code",
   "execution_count": 2,
   "metadata": {},
   "outputs": [],
   "source": [
    "#Importation des librairies \n",
    "import pandas as pd \n",
    "import os\n",
    "from sklearn.pipeline import Pipeline\n",
    "from sklearn.compose import ColumnTransformer\n",
    "from sklearn.impute import SimpleImputer\n",
    "from sklearn.tree import DecisionTreeRegressor\n",
    "from sklearn.base import BaseEstimator, TransformerMixin\n",
    "import category_encoders as ce\n",
    "import joblib"
   ]
  },
  {
   "cell_type": "code",
   "execution_count": 3,
   "metadata": {},
   "outputs": [],
   "source": [
    "os.chdir(\"/Users/pierrebourbon/Documents/PRO/Data/Master_SISE/Programmation_Python/Projet\")"
   ]
  },
  {
   "cell_type": "markdown",
   "metadata": {},
   "source": [
    "# Chargement des données "
   ]
  },
  {
   "cell_type": "code",
   "execution_count": 4,
   "metadata": {},
   "outputs": [],
   "source": [
    "df = pd.read_excel(\"extract-dpe.xlsx\")"
   ]
  },
  {
   "cell_type": "code",
   "execution_count": 112,
   "metadata": {},
   "outputs": [],
   "source": [
    "#Choix des variables explicatives\n",
    "\n",
    "var_explicatives = [\"Etiquette_DPE\", \n",
    "                    \"Type_bâtiment\", \n",
    "                    \"Année_construction\", \n",
    "                    \"Classe_inertie_bâtiment\", \n",
    "                    \"Hauteur_sous-plafond\", \n",
    "                    \"Surface_habitable_logement\",  \n",
    "                    \"Type_énergie_principale_chauffage\", \n",
    "                    \"Isolation_toiture_(0/1)\", \"Code_INSEE_(BAN)\"]\n",
    "\n",
    "target = [\"Conso_5_usages_é_finale\"]"
   ]
  },
  {
   "cell_type": "code",
   "execution_count": 113,
   "metadata": {},
   "outputs": [],
   "source": [
    "#Création d'un data frame avec les variables explicatives et la target\n",
    "df_dpe = df[var_explicatives+target]"
   ]
  },
  {
   "cell_type": "markdown",
   "metadata": {},
   "source": [
    "# Suppression des outliers, NA de la target et Type_batiment == immeuble"
   ]
  },
  {
   "cell_type": "code",
   "execution_count": 114,
   "metadata": {},
   "outputs": [
    {
     "data": {
      "text/html": [
       "<div>\n",
       "<style scoped>\n",
       "    .dataframe tbody tr th:only-of-type {\n",
       "        vertical-align: middle;\n",
       "    }\n",
       "\n",
       "    .dataframe tbody tr th {\n",
       "        vertical-align: top;\n",
       "    }\n",
       "\n",
       "    .dataframe thead th {\n",
       "        text-align: right;\n",
       "    }\n",
       "</style>\n",
       "<table border=\"1\" class=\"dataframe\">\n",
       "  <thead>\n",
       "    <tr style=\"text-align: right;\">\n",
       "      <th></th>\n",
       "      <th>Année_construction</th>\n",
       "      <th>Hauteur_sous-plafond</th>\n",
       "      <th>Surface_habitable_logement</th>\n",
       "      <th>Isolation_toiture_(0/1)</th>\n",
       "      <th>Conso_5_usages_é_finale</th>\n",
       "    </tr>\n",
       "  </thead>\n",
       "  <tbody>\n",
       "    <tr>\n",
       "      <th>count</th>\n",
       "      <td>186204.000000</td>\n",
       "      <td>313695.000000</td>\n",
       "      <td>311641.000000</td>\n",
       "      <td>186839.000000</td>\n",
       "      <td>313687.000000</td>\n",
       "    </tr>\n",
       "    <tr>\n",
       "      <th>mean</th>\n",
       "      <td>1975.358322</td>\n",
       "      <td>2.589259</td>\n",
       "      <td>65.811322</td>\n",
       "      <td>0.355156</td>\n",
       "      <td>10499.919965</td>\n",
       "    </tr>\n",
       "    <tr>\n",
       "      <th>std</th>\n",
       "      <td>28.364826</td>\n",
       "      <td>0.235743</td>\n",
       "      <td>34.695060</td>\n",
       "      <td>0.478562</td>\n",
       "      <td>9562.245845</td>\n",
       "    </tr>\n",
       "    <tr>\n",
       "      <th>min</th>\n",
       "      <td>1731.000000</td>\n",
       "      <td>1.100000</td>\n",
       "      <td>1.000000</td>\n",
       "      <td>0.000000</td>\n",
       "      <td>306.300000</td>\n",
       "    </tr>\n",
       "    <tr>\n",
       "      <th>25%</th>\n",
       "      <td>1958.000000</td>\n",
       "      <td>2.500000</td>\n",
       "      <td>44.000000</td>\n",
       "      <td>0.000000</td>\n",
       "      <td>4999.500000</td>\n",
       "    </tr>\n",
       "    <tr>\n",
       "      <th>50%</th>\n",
       "      <td>1973.000000</td>\n",
       "      <td>2.500000</td>\n",
       "      <td>63.000000</td>\n",
       "      <td>0.000000</td>\n",
       "      <td>7982.600000</td>\n",
       "    </tr>\n",
       "    <tr>\n",
       "      <th>75%</th>\n",
       "      <td>1998.000000</td>\n",
       "      <td>2.500000</td>\n",
       "      <td>79.700000</td>\n",
       "      <td>1.000000</td>\n",
       "      <td>12970.100000</td>\n",
       "    </tr>\n",
       "    <tr>\n",
       "      <th>max</th>\n",
       "      <td>2024.000000</td>\n",
       "      <td>4.600000</td>\n",
       "      <td>365.200000</td>\n",
       "      <td>1.000000</td>\n",
       "      <td>111399.400000</td>\n",
       "    </tr>\n",
       "  </tbody>\n",
       "</table>\n",
       "</div>"
      ],
      "text/plain": [
       "       Année_construction  Hauteur_sous-plafond  Surface_habitable_logement  \\\n",
       "count       186204.000000         313695.000000               311641.000000   \n",
       "mean          1975.358322              2.589259                   65.811322   \n",
       "std             28.364826              0.235743                   34.695060   \n",
       "min           1731.000000              1.100000                    1.000000   \n",
       "25%           1958.000000              2.500000                   44.000000   \n",
       "50%           1973.000000              2.500000                   63.000000   \n",
       "75%           1998.000000              2.500000                   79.700000   \n",
       "max           2024.000000              4.600000                  365.200000   \n",
       "\n",
       "       Isolation_toiture_(0/1)  Conso_5_usages_é_finale  \n",
       "count            186839.000000            313687.000000  \n",
       "mean                  0.355156             10499.919965  \n",
       "std                   0.478562              9562.245845  \n",
       "min                   0.000000               306.300000  \n",
       "25%                   0.000000              4999.500000  \n",
       "50%                   0.000000              7982.600000  \n",
       "75%                   1.000000             12970.100000  \n",
       "max                   1.000000            111399.400000  "
      ]
     },
     "execution_count": 114,
     "metadata": {},
     "output_type": "execute_result"
    }
   ],
   "source": [
    "#Supression des outliers avec la méthode des quartiles [q1 - 1.5 * IQR , q3 + 1.5 * IQR]\n",
    "\n",
    "#Sélection des vars quanti\n",
    "df_quanti = df_dpe.select_dtypes(include=['number'])\n",
    "\n",
    "#Calcul du IQR pour chaque colonne \n",
    "Quanti_bas = df_quanti.quantile(0.025)\n",
    "Quanti_haut = df_quanti.quantile(0.975)\n",
    "IQR = Quanti_haut-Quanti_bas\n",
    "\n",
    "#Filtrage des données sans outliers \n",
    "df_dpe_filtered = df_dpe[~((df_quanti < (Quanti_bas - 1.5 * IQR)) | (df_quanti > (Quanti_haut + 1.5 * IQR))).any(axis=1)]\n",
    "\n",
    "df_dpe_filtered.describe()"
   ]
  },
  {
   "cell_type": "code",
   "execution_count": 115,
   "metadata": {},
   "outputs": [
    {
     "data": {
      "text/plain": [
       "Etiquette_DPE                             0\n",
       "Type_bâtiment                             0\n",
       "Année_construction                   127491\n",
       "Classe_inertie_bâtiment                2063\n",
       "Hauteur_sous-plafond                      0\n",
       "Surface_habitable_logement             2054\n",
       "Type_énergie_principale_chauffage     10547\n",
       "Isolation_toiture_(0/1)              126856\n",
       "Code_INSEE_(BAN)                          0\n",
       "Conso_5_usages_é_finale                   0\n",
       "dtype: int64"
      ]
     },
     "execution_count": 115,
     "metadata": {},
     "output_type": "execute_result"
    }
   ],
   "source": [
    "#On enlève les NA de la conso \n",
    "df_dpe_filtered = df_dpe_filtered.dropna(subset=[\"Conso_5_usages_é_finale\"])\n",
    "df_dpe_filtered.isnull().sum()"
   ]
  },
  {
   "cell_type": "code",
   "execution_count": 116,
   "metadata": {},
   "outputs": [
    {
     "data": {
      "text/plain": [
       "(311814, 10)"
      ]
     },
     "execution_count": 116,
     "metadata": {},
     "output_type": "execute_result"
    }
   ],
   "source": [
    "#On enlève les \"immeubles\"\n",
    "df_dpe_filtered = df_dpe_filtered[df_dpe_filtered['Type_bâtiment'] != 'immeuble']\n",
    "df_dpe_filtered.shape"
   ]
  },
  {
   "cell_type": "markdown",
   "metadata": {},
   "source": [
    "# Train / Test Split"
   ]
  },
  {
   "cell_type": "code",
   "execution_count": 117,
   "metadata": {},
   "outputs": [
    {
     "data": {
      "text/html": [
       "<div>\n",
       "<style scoped>\n",
       "    .dataframe tbody tr th:only-of-type {\n",
       "        vertical-align: middle;\n",
       "    }\n",
       "\n",
       "    .dataframe tbody tr th {\n",
       "        vertical-align: top;\n",
       "    }\n",
       "\n",
       "    .dataframe thead th {\n",
       "        text-align: right;\n",
       "    }\n",
       "</style>\n",
       "<table border=\"1\" class=\"dataframe\">\n",
       "  <thead>\n",
       "    <tr style=\"text-align: right;\">\n",
       "      <th></th>\n",
       "      <th>Etiquette_DPE</th>\n",
       "      <th>Type_bâtiment</th>\n",
       "      <th>Année_construction</th>\n",
       "      <th>Classe_inertie_bâtiment</th>\n",
       "      <th>Hauteur_sous-plafond</th>\n",
       "      <th>Surface_habitable_logement</th>\n",
       "      <th>Type_énergie_principale_chauffage</th>\n",
       "      <th>Isolation_toiture_(0/1)</th>\n",
       "      <th>Code_INSEE_(BAN)</th>\n",
       "    </tr>\n",
       "  </thead>\n",
       "  <tbody>\n",
       "    <tr>\n",
       "      <th>0</th>\n",
       "      <td>D</td>\n",
       "      <td>appartement</td>\n",
       "      <td>1969.0</td>\n",
       "      <td>Légère</td>\n",
       "      <td>2.5</td>\n",
       "      <td>90.5</td>\n",
       "      <td>Réseau de Chauffage urbain</td>\n",
       "      <td>NaN</td>\n",
       "      <td>69256</td>\n",
       "    </tr>\n",
       "    <tr>\n",
       "      <th>1</th>\n",
       "      <td>E</td>\n",
       "      <td>appartement</td>\n",
       "      <td>1960.0</td>\n",
       "      <td>Moyenne</td>\n",
       "      <td>2.5</td>\n",
       "      <td>56.8</td>\n",
       "      <td>Réseau de Chauffage urbain</td>\n",
       "      <td>NaN</td>\n",
       "      <td>69256</td>\n",
       "    </tr>\n",
       "    <tr>\n",
       "      <th>2</th>\n",
       "      <td>D</td>\n",
       "      <td>appartement</td>\n",
       "      <td>1975.0</td>\n",
       "      <td>Lourde</td>\n",
       "      <td>2.5</td>\n",
       "      <td>83.6</td>\n",
       "      <td>Réseau de Chauffage urbain</td>\n",
       "      <td>NaN</td>\n",
       "      <td>69256</td>\n",
       "    </tr>\n",
       "    <tr>\n",
       "      <th>3</th>\n",
       "      <td>F</td>\n",
       "      <td>appartement</td>\n",
       "      <td>1948.0</td>\n",
       "      <td>Lourde</td>\n",
       "      <td>2.5</td>\n",
       "      <td>55.7</td>\n",
       "      <td>Gaz naturel</td>\n",
       "      <td>NaN</td>\n",
       "      <td>69256</td>\n",
       "    </tr>\n",
       "    <tr>\n",
       "      <th>4</th>\n",
       "      <td>C</td>\n",
       "      <td>appartement</td>\n",
       "      <td>2013.0</td>\n",
       "      <td>Moyenne</td>\n",
       "      <td>2.5</td>\n",
       "      <td>70.2</td>\n",
       "      <td>Gaz naturel</td>\n",
       "      <td>NaN</td>\n",
       "      <td>69256</td>\n",
       "    </tr>\n",
       "  </tbody>\n",
       "</table>\n",
       "</div>"
      ],
      "text/plain": [
       "  Etiquette_DPE Type_bâtiment  Année_construction Classe_inertie_bâtiment  \\\n",
       "0             D   appartement              1969.0                  Légère   \n",
       "1             E   appartement              1960.0                 Moyenne   \n",
       "2             D   appartement              1975.0                  Lourde   \n",
       "3             F   appartement              1948.0                  Lourde   \n",
       "4             C   appartement              2013.0                 Moyenne   \n",
       "\n",
       "   Hauteur_sous-plafond  Surface_habitable_logement  \\\n",
       "0                   2.5                        90.5   \n",
       "1                   2.5                        56.8   \n",
       "2                   2.5                        83.6   \n",
       "3                   2.5                        55.7   \n",
       "4                   2.5                        70.2   \n",
       "\n",
       "  Type_énergie_principale_chauffage  Isolation_toiture_(0/1) Code_INSEE_(BAN)  \n",
       "0        Réseau de Chauffage urbain                      NaN            69256  \n",
       "1        Réseau de Chauffage urbain                      NaN            69256  \n",
       "2        Réseau de Chauffage urbain                      NaN            69256  \n",
       "3                       Gaz naturel                      NaN            69256  \n",
       "4                       Gaz naturel                      NaN            69256  "
      ]
     },
     "execution_count": 117,
     "metadata": {},
     "output_type": "execute_result"
    }
   ],
   "source": [
    "#Séparation variables explicatives et variable cible \n",
    "X = df_dpe_filtered[var_explicatives]\n",
    "y = df_dpe_filtered[target]\n",
    "\n",
    "X.head()"
   ]
  },
  {
   "cell_type": "code",
   "execution_count": 118,
   "metadata": {},
   "outputs": [
    {
     "data": {
      "text/plain": [
       "(218269, 9)"
      ]
     },
     "execution_count": 118,
     "metadata": {},
     "output_type": "execute_result"
    }
   ],
   "source": [
    "#Train / Test Split\n",
    "from sklearn.model_selection import train_test_split\n",
    "X_train, X_test, y_train, y_test = train_test_split(X, y, test_size=0.3, random_state=0)\n",
    "\n",
    "X_train.shape"
   ]
  },
  {
   "cell_type": "markdown",
   "metadata": {},
   "source": [
    "# Pipeline "
   ]
  },
  {
   "cell_type": "code",
   "execution_count": 119,
   "metadata": {},
   "outputs": [],
   "source": [
    "#Colonnes numériques et catégorielles / traitement spécifique pour isolation toiture \n",
    "num_features = [\"Année_construction\", \"Hauteur_sous-plafond\", \"Surface_habitable_logement\"]\n",
    "iso_feature = [\"Isolation_toiture_(0/1)\"]\n",
    "cat_features = [\"Etiquette_DPE\", \"Type_bâtiment\", \"Classe_inertie_bâtiment\", \"Type_énergie_principale_chauffage\", \"Code_INSEE_(BAN)\"]"
   ]
  },
  {
   "cell_type": "code",
   "execution_count": 120,
   "metadata": {},
   "outputs": [
    {
     "data": {
      "text/html": [
       "<div>\n",
       "<style scoped>\n",
       "    .dataframe tbody tr th:only-of-type {\n",
       "        vertical-align: middle;\n",
       "    }\n",
       "\n",
       "    .dataframe tbody tr th {\n",
       "        vertical-align: top;\n",
       "    }\n",
       "\n",
       "    .dataframe thead th {\n",
       "        text-align: right;\n",
       "    }\n",
       "</style>\n",
       "<table border=\"1\" class=\"dataframe\">\n",
       "  <thead>\n",
       "    <tr style=\"text-align: right;\">\n",
       "      <th></th>\n",
       "      <th>Année_construction</th>\n",
       "      <th>Hauteur_sous-plafond</th>\n",
       "      <th>Surface_habitable_logement</th>\n",
       "    </tr>\n",
       "  </thead>\n",
       "  <tbody>\n",
       "    <tr>\n",
       "      <th>0</th>\n",
       "      <td>1969.0</td>\n",
       "      <td>2.5</td>\n",
       "      <td>90.5</td>\n",
       "    </tr>\n",
       "    <tr>\n",
       "      <th>1</th>\n",
       "      <td>1960.0</td>\n",
       "      <td>2.5</td>\n",
       "      <td>56.8</td>\n",
       "    </tr>\n",
       "    <tr>\n",
       "      <th>2</th>\n",
       "      <td>1975.0</td>\n",
       "      <td>2.5</td>\n",
       "      <td>83.6</td>\n",
       "    </tr>\n",
       "    <tr>\n",
       "      <th>3</th>\n",
       "      <td>1948.0</td>\n",
       "      <td>2.5</td>\n",
       "      <td>55.7</td>\n",
       "    </tr>\n",
       "    <tr>\n",
       "      <th>4</th>\n",
       "      <td>2013.0</td>\n",
       "      <td>2.5</td>\n",
       "      <td>70.2</td>\n",
       "    </tr>\n",
       "    <tr>\n",
       "      <th>...</th>\n",
       "      <td>...</td>\n",
       "      <td>...</td>\n",
       "      <td>...</td>\n",
       "    </tr>\n",
       "    <tr>\n",
       "      <th>318489</th>\n",
       "      <td>2013.0</td>\n",
       "      <td>2.5</td>\n",
       "      <td>42.0</td>\n",
       "    </tr>\n",
       "    <tr>\n",
       "      <th>318490</th>\n",
       "      <td>NaN</td>\n",
       "      <td>2.3</td>\n",
       "      <td>34.6</td>\n",
       "    </tr>\n",
       "    <tr>\n",
       "      <th>318491</th>\n",
       "      <td>NaN</td>\n",
       "      <td>2.5</td>\n",
       "      <td>50.0</td>\n",
       "    </tr>\n",
       "    <tr>\n",
       "      <th>318492</th>\n",
       "      <td>NaN</td>\n",
       "      <td>2.5</td>\n",
       "      <td>59.2</td>\n",
       "    </tr>\n",
       "    <tr>\n",
       "      <th>318493</th>\n",
       "      <td>NaN</td>\n",
       "      <td>2.5</td>\n",
       "      <td>150.0</td>\n",
       "    </tr>\n",
       "  </tbody>\n",
       "</table>\n",
       "<p>311814 rows × 3 columns</p>\n",
       "</div>"
      ],
      "text/plain": [
       "        Année_construction  Hauteur_sous-plafond  Surface_habitable_logement\n",
       "0                   1969.0                   2.5                        90.5\n",
       "1                   1960.0                   2.5                        56.8\n",
       "2                   1975.0                   2.5                        83.6\n",
       "3                   1948.0                   2.5                        55.7\n",
       "4                   2013.0                   2.5                        70.2\n",
       "...                    ...                   ...                         ...\n",
       "318489              2013.0                   2.5                        42.0\n",
       "318490                 NaN                   2.3                        34.6\n",
       "318491                 NaN                   2.5                        50.0\n",
       "318492                 NaN                   2.5                        59.2\n",
       "318493                 NaN                   2.5                       150.0\n",
       "\n",
       "[311814 rows x 3 columns]"
      ]
     },
     "execution_count": 120,
     "metadata": {},
     "output_type": "execute_result"
    }
   ],
   "source": [
    "X[num_features]"
   ]
  },
  {
   "cell_type": "code",
   "execution_count": 122,
   "metadata": {},
   "outputs": [],
   "source": [
    "# Transformateur personnalisé pour convertir la colonne isolation toiture en type `str`\n",
    "class ConvertToStrTransformer(BaseEstimator, TransformerMixin):\n",
    "    def fit(self, X, y=None):\n",
    "        return self  # Rien à ajuster\n",
    "    \n",
    "    def transform(self, X):\n",
    "        # Conversion de la colonne en type `str`\n",
    "        return X.astype(str)"
   ]
  },
  {
   "cell_type": "code",
   "execution_count": 123,
   "metadata": {},
   "outputs": [],
   "source": [
    "#Transformateur pour le target encoder \n",
    "\n",
    "class TargetEncodingTransformer(BaseEstimator, TransformerMixin):\n",
    "    def __init__(self, cols=None):\n",
    "        self.cols = cols\n",
    "        self.encoder = ce.TargetEncoder(cols=self.cols)\n",
    "    \n",
    "    def fit(self, X, y):\n",
    "        self.encoder.fit(X, y)\n",
    "        return self\n",
    "    \n",
    "    def transform(self, X):\n",
    "        return self.encoder.transform(X)"
   ]
  },
  {
   "cell_type": "code",
   "execution_count": 124,
   "metadata": {},
   "outputs": [],
   "source": [
    "#Pipeline pour les colonnes numériques \n",
    "num_transformer = Pipeline(steps=[\n",
    "    ('imputer', SimpleImputer(strategy='mean'))\n",
    "])"
   ]
  },
  {
   "cell_type": "code",
   "execution_count": 125,
   "metadata": {},
   "outputs": [],
   "source": [
    "#Pipeline pour la colonne isolation toiture \n",
    "iso_transformer = Pipeline(steps=[\n",
    "    ('to_object', ConvertToStrTransformer()),\n",
    "    ('imputer', SimpleImputer(strategy='constant', fill_value='Inconnue'))\n",
    "])"
   ]
  },
  {
   "cell_type": "code",
   "execution_count": 126,
   "metadata": {},
   "outputs": [],
   "source": [
    "#Pipeline pour les colonnes catégorielles\n",
    "cat_transformer = Pipeline(steps=[\n",
    "    ('imputer',SimpleImputer(strategy='most_frequent')),\n",
    "    ('encoder', TargetEncodingTransformer())\n",
    "])"
   ]
  },
  {
   "cell_type": "code",
   "execution_count": 127,
   "metadata": {},
   "outputs": [],
   "source": [
    "#Prepocessor \n",
    "preprocessor = ColumnTransformer(\n",
    "    transformers=[\n",
    "        ('num', num_transformer, num_features),\n",
    "        ('iso', iso_transformer, iso_feature),\n",
    "        ('cat', cat_transformer, cat_features + iso_feature)\n",
    "    ]\n",
    ")"
   ]
  },
  {
   "cell_type": "code",
   "execution_count": 128,
   "metadata": {},
   "outputs": [],
   "source": [
    "#Pipeline final avec la preprocessor et le modèle \n",
    "pipeline = Pipeline(steps=[\n",
    "    ('preprocessor', preprocessor),\n",
    "    ('regression', DecisionTreeRegressor(max_depth=10, min_samples_leaf=4, min_samples_split=10))\n",
    "])"
   ]
  },
  {
   "cell_type": "code",
   "execution_count": 129,
   "metadata": {},
   "outputs": [],
   "source": [
    "X_train = X_train.reset_index(drop=True)\n",
    "y_train = y_train.reset_index(drop=True)"
   ]
  },
  {
   "cell_type": "code",
   "execution_count": 130,
   "metadata": {},
   "outputs": [
    {
     "data": {
      "text/plain": [
       "['pipeline_ml_regression.joblib']"
      ]
     },
     "execution_count": 130,
     "metadata": {},
     "output_type": "execute_result"
    }
   ],
   "source": [
    "# Pipeline final avec les données encodées et imputées\n",
    "pipeline.fit(X_train, y_train)\n",
    "\n",
    "# Sauvegarde du pipeline complet\n",
    "joblib.dump(pipeline, 'pipeline_ml_regression.joblib')"
   ]
  },
  {
   "cell_type": "code",
   "execution_count": null,
   "metadata": {},
   "outputs": [],
   "source": []
  }
 ],
 "metadata": {
  "kernelspec": {
   "display_name": "projet_pythonML",
   "language": "python",
   "name": "python3"
  },
  "language_info": {
   "codemirror_mode": {
    "name": "ipython",
    "version": 3
   },
   "file_extension": ".py",
   "mimetype": "text/x-python",
   "name": "python",
   "nbconvert_exporter": "python",
   "pygments_lexer": "ipython3",
   "version": "3.9.6"
  }
 },
 "nbformat": 4,
 "nbformat_minor": 2
}
