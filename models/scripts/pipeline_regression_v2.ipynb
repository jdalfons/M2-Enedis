{
 "cells": [
  {
   "cell_type": "code",
   "execution_count": 56,
   "metadata": {},
   "outputs": [],
   "source": [
    "#Importation des librairies \n",
    "import pandas as pd \n",
    "import os\n",
    "from sklearn.pipeline import Pipeline\n",
    "from sklearn.compose import ColumnTransformer\n",
    "from sklearn.impute import SimpleImputer\n",
    "from sklearn.tree import DecisionTreeRegressor\n",
    "from sklearn.base import BaseEstimator, TransformerMixin\n",
    "import category_encoders as ce\n",
    "import joblib"
   ]
  },
  {
   "cell_type": "code",
   "execution_count": 57,
   "metadata": {},
   "outputs": [],
   "source": [
    "# Change to the current working directory\n",
    "current_workdir = os.getcwd()\n",
    "os.chdir(current_workdir)\n",
    "DATASET = \"https://media.githubusercontent.com/media/jdalfons/M2-SISE-Enedis/refs/heads/main/datasets/DPE_Enedis_69.csv\""
   ]
  },
  {
   "cell_type": "code",
   "execution_count": 58,
   "metadata": {},
   "outputs": [],
   "source": [
    "df = pd.read_csv(DATASET, sep=';', dtype={'Isolation_toiture_(0/1)': 'str'}, low_memory=False)"
   ]
  },
  {
   "cell_type": "code",
   "execution_count": null,
   "metadata": {},
   "outputs": [],
   "source": [
    "var_explicatives = [\"Etiquette_DPE\", \n",
    "                    \"Type_bâtiment\", \n",
    "                    \"Année_construction\", \n",
    "                    \"Classe_inertie_bâtiment\", \n",
    "                    \"Hauteur_sous-plafond\", \n",
    "                    \"Surface_habitable_logement\",  \n",
    "                    \"Type_énergie_principale_chauffage\", \n",
    "                    \"Isolation_toiture_(0/1)\", \n",
    "                    \"Code_postal_(BAN)\"\n",
    "                    ]\n",
    "\n",
    "target = [\"Conso_5_usages_é_finale\"]"
   ]
  },
  {
   "cell_type": "code",
   "execution_count": 60,
   "metadata": {},
   "outputs": [],
   "source": [
    "df_dpe = df[var_explicatives+target]"
   ]
  },
  {
   "cell_type": "code",
   "execution_count": 61,
   "metadata": {},
   "outputs": [
    {
     "data": {
      "text/html": [
       "<div>\n",
       "<style scoped>\n",
       "    .dataframe tbody tr th:only-of-type {\n",
       "        vertical-align: middle;\n",
       "    }\n",
       "\n",
       "    .dataframe tbody tr th {\n",
       "        vertical-align: top;\n",
       "    }\n",
       "\n",
       "    .dataframe thead th {\n",
       "        text-align: right;\n",
       "    }\n",
       "</style>\n",
       "<table border=\"1\" class=\"dataframe\">\n",
       "  <thead>\n",
       "    <tr style=\"text-align: right;\">\n",
       "      <th></th>\n",
       "      <th>Année_construction</th>\n",
       "      <th>Hauteur_sous-plafond</th>\n",
       "      <th>Surface_habitable_logement</th>\n",
       "      <th>Code_postal_(BAN)</th>\n",
       "      <th>Conso_5_usages_é_finale</th>\n",
       "    </tr>\n",
       "  </thead>\n",
       "  <tbody>\n",
       "    <tr>\n",
       "      <th>count</th>\n",
       "      <td>146697.000000</td>\n",
       "      <td>224547.000000</td>\n",
       "      <td>224269.000000</td>\n",
       "      <td>224547.000000</td>\n",
       "      <td>224546.000000</td>\n",
       "    </tr>\n",
       "    <tr>\n",
       "      <th>mean</th>\n",
       "      <td>1980.050989</td>\n",
       "      <td>2.501710</td>\n",
       "      <td>60.967855</td>\n",
       "      <td>69165.693075</td>\n",
       "      <td>8578.633043</td>\n",
       "    </tr>\n",
       "    <tr>\n",
       "      <th>std</th>\n",
       "      <td>24.810727</td>\n",
       "      <td>0.034569</td>\n",
       "      <td>23.632222</td>\n",
       "      <td>187.528718</td>\n",
       "      <td>5012.296495</td>\n",
       "    </tr>\n",
       "    <tr>\n",
       "      <th>min</th>\n",
       "      <td>1780.000000</td>\n",
       "      <td>2.300000</td>\n",
       "      <td>1.000000</td>\n",
       "      <td>69001.000000</td>\n",
       "      <td>306.300000</td>\n",
       "    </tr>\n",
       "    <tr>\n",
       "      <th>25%</th>\n",
       "      <td>1964.000000</td>\n",
       "      <td>2.500000</td>\n",
       "      <td>45.100000</td>\n",
       "      <td>69007.000000</td>\n",
       "      <td>4765.000000</td>\n",
       "    </tr>\n",
       "    <tr>\n",
       "      <th>50%</th>\n",
       "      <td>1976.000000</td>\n",
       "      <td>2.500000</td>\n",
       "      <td>63.000000</td>\n",
       "      <td>69100.000000</td>\n",
       "      <td>7457.300000</td>\n",
       "    </tr>\n",
       "    <tr>\n",
       "      <th>75%</th>\n",
       "      <td>2001.000000</td>\n",
       "      <td>2.500000</td>\n",
       "      <td>76.700000</td>\n",
       "      <td>69290.000000</td>\n",
       "      <td>11461.000000</td>\n",
       "    </tr>\n",
       "    <tr>\n",
       "      <th>max</th>\n",
       "      <td>2024.000000</td>\n",
       "      <td>2.600000</td>\n",
       "      <td>133.700000</td>\n",
       "      <td>69720.000000</td>\n",
       "      <td>26387.500000</td>\n",
       "    </tr>\n",
       "  </tbody>\n",
       "</table>\n",
       "</div>"
      ],
      "text/plain": [
       "       Année_construction  Hauteur_sous-plafond  Surface_habitable_logement  \\\n",
       "count       146697.000000         224547.000000               224269.000000   \n",
       "mean          1980.050989              2.501710                   60.967855   \n",
       "std             24.810727              0.034569                   23.632222   \n",
       "min           1780.000000              2.300000                    1.000000   \n",
       "25%           1964.000000              2.500000                   45.100000   \n",
       "50%           1976.000000              2.500000                   63.000000   \n",
       "75%           2001.000000              2.500000                   76.700000   \n",
       "max           2024.000000              2.600000                  133.700000   \n",
       "\n",
       "       Code_postal_(BAN)  Conso_5_usages_é_finale  \n",
       "count      224547.000000            224546.000000  \n",
       "mean        69165.693075              8578.633043  \n",
       "std           187.528718              5012.296495  \n",
       "min         69001.000000               306.300000  \n",
       "25%         69007.000000              4765.000000  \n",
       "50%         69100.000000              7457.300000  \n",
       "75%         69290.000000             11461.000000  \n",
       "max         69720.000000             26387.500000  "
      ]
     },
     "execution_count": 61,
     "metadata": {},
     "output_type": "execute_result"
    }
   ],
   "source": [
    "df_quanti = df_dpe.select_dtypes(include=['number'])\n",
    "\n",
    "#Calcul du IQR pour chaque colonne \n",
    "Quanti_bas = df_quanti.quantile(0.025)\n",
    "Quanti_haut = df_quanti.quantile(0.75)\n",
    "IQR = Quanti_haut-Quanti_bas\n",
    "\n",
    "#Filtrage des données sans outliers \n",
    "df_dpe_filtered = df_dpe[~((df_quanti < (Quanti_bas - 1.5 * IQR)) | (df_quanti > (Quanti_haut + 1.5 * IQR))).any(axis=1)]\n",
    "\n",
    "df_dpe_filtered.describe()"
   ]
  },
  {
   "cell_type": "code",
   "execution_count": 62,
   "metadata": {},
   "outputs": [],
   "source": [
    "df['Isolation_toiture_(0/1)'] = df['Isolation_toiture_(0/1)'].replace({True: 'Oui', False: 'Non', None: 'Inconnue'})"
   ]
  },
  {
   "cell_type": "code",
   "execution_count": 63,
   "metadata": {},
   "outputs": [
    {
     "data": {
      "text/plain": [
       "0         Inconnue\n",
       "1         Inconnue\n",
       "2         Inconnue\n",
       "3         Inconnue\n",
       "4         Inconnue\n",
       "            ...   \n",
       "290819        True\n",
       "290820       False\n",
       "290821       False\n",
       "290822       False\n",
       "290823        True\n",
       "Name: Isolation_toiture_(0/1), Length: 290824, dtype: object"
      ]
     },
     "execution_count": 63,
     "metadata": {},
     "output_type": "execute_result"
    }
   ],
   "source": [
    "df['Isolation_toiture_(0/1)']"
   ]
  },
  {
   "cell_type": "code",
   "execution_count": null,
   "metadata": {},
   "outputs": [],
   "source": [
    "from sklearn.preprocessing import LabelEncoder\n",
    "\n",
    "label_encoder = LabelEncoder()\n",
    "df_enc = df.copy()\n",
    "\n",
    "df_enc['Etiquette_DPE'] = label_encoder.fit_transform(df_enc['Etiquette_DPE'])\n",
    "df_enc['Type_bâtiment'] = label_encoder.fit_transform(df_enc['Type_bâtiment'])\n",
    "df_enc['Classe_inertie_bâtiment'] = label_encoder.fit_transform(df_enc['Classe_inertie_bâtiment'])\n",
    "df_enc['Type_énergie_principale_chauffage'] = label_encoder.fit_transform(df_enc['Type_énergie_principale_chauffage'])\n",
    "\n",
    "# Check if 'nom_commune' exists in the dataframe before encoding\n",
    "if 'nom_commune' in df_enc.columns:\n",
    "\tdf_enc['nom_commune'] = label_encoder.fit_transform(df_enc['nom_commune'])\n",
    "\n",
    "# df_enc['Code_postal_(BAN)'] = label_encoder.fit_transform(df_enc['Code_postal_(BAN)'])\n",
    "df_enc['Isolation_toiture_(0/1)'] = label_encoder.fit_transform(df_enc['Isolation_toiture_(0/1)'])\n"
   ]
  },
  {
   "cell_type": "code",
   "execution_count": null,
   "metadata": {
    "vscode": {
     "languageId": "powershell"
    }
   },
   "outputs": [],
   "source": []
  },
  {
   "cell_type": "code",
   "execution_count": null,
   "metadata": {},
   "outputs": [
    {
     "name": "stdout",
     "output_type": "stream",
     "text": [
      "\n",
      "Etiquette_DPE Dictionary with tags from df and values from df_enc for Etiquette_DPE:\n",
      "{'A': 0, 'B': 1, 'C': 2, 'D': 3, 'E': 4, 'F': 5, 'G': 6}\n",
      "\n",
      "Type_bâtiment Dictionary with tags from df and values from df_enc for Type_bâtiment:\n",
      "{'appartement': 0, 'immeuble': 1, 'maison': 2}\n",
      "\n",
      "Classe_inertie_bâtiment Dictionary with tags from df and values from df_enc for Classe_inertie_bâtiment:\n",
      "{'Lourde': 0, 'Légère': 1, 'Moyenne': 2, 'Très lourde': 3}\n",
      "\n",
      "Type_énergie_principale_chauffage Dictionary with tags from df and values from df_enc for Type_énergie_principale_chauffage:\n",
      "{'Bois – Bûches': 5, 'Bois – Granulés (pellets) ou briquettes': 0, 'Bois – Plaquettes d’industrie': 8, 'Bois – Plaquettes forestières': 2, 'Charbon': 3, 'Fioul domestique': 12, 'GPL': 1, 'Gaz naturel': 7, 'Propane': 6, 'Réseau de Chauffage urbain': 9, 'Électricité': 10, \"Électricité d'origine renouvelable utilisée dans le bâtiment\": 4}\n",
      "\n",
      "nom_commune Dictionary with tags from df and values from df_enc for nom_commune:\n",
      "{'Affoux': 140, 'Aigueperse': 150, 'Albigny-sur-Saône': 207, 'Alix': 261, 'Ambérieux': 33, 'Amplepuis': 35, 'Ampuis': 6, 'Ancy': 111, 'Anse': 116, 'Arnas': 63, 'Aveize': 24, 'Azolette': 177, 'Bagnols': 202, 'Beaujeu': 185, 'Beauvallon': 161, 'Belleville-en-Beaujolais': 100, \"Belmont-d'Azergues\": 10, 'Bessenay': 227, 'Bibost': 18, 'Blacé': 174, 'Brignais': 64, 'Brindas': 259, 'Bron': 262, 'Brullioles': 23, 'Brussieu': 32, 'Bully': 62, 'Cailloux-sur-Fontaines': 51, 'Caluire-et-Cuire': 22, 'Cenves': 170, 'Cercié': 234, 'Chabanière': 249, 'Chambost-Allières': 60, 'Chambost-Longessaigne': 3, 'Chamelet': 49, \"Champagne-au-Mont-d'Or\": 92, 'Chaponnay': 240, 'Chaponost': 80, 'Charbonnières-les-Bains': 188, 'Charentay': 162, 'Charly': 211, 'Charnay': 25, 'Chasselay': 222, 'Chassieu': 98, 'Chaussan': 106, \"Chazay-d'Azergues\": 122, 'Chessy': 148, 'Chevinay': 90, 'Chiroubles': 47, 'Châtillon': 119, 'Chénas': 43, 'Chénelette': 189, \"Civrieux-d'Azergues\": 264, 'Claveisolles': 182, 'Cogny': 53, 'Coise': 54, \"Collonges-au-Mont-d'Or\": 101, 'Colombier-Saugnieu': 205, 'Communay': 37, 'Condrieu': 219, 'Corbas': 20, 'Corcelles-en-Beaujolais': 200, 'Cours': 179, 'Courzieu': 238, \"Couzon-au-Mont-d'Or\": 57, 'Craponne': 145, 'Cublize': 29, \"Curis-au-Mont-d'Or\": 66, 'Dardilly': 36, 'Denicé': 56, 'Deux-Grosnes': 152, 'Dième': 70, 'Dommartin': 206, 'Dracé': 72, 'Duerne': 107, 'Décines-Charpieu': 213, 'Feyzin': 154, 'Fleurie': 167, 'Fleurieu-sur-Saône': 26, \"Fleurieux-sur-l'Arbresle\": 71, 'Fontaines-Saint-Martin': 147, 'Fontaines-sur-Saône': 89, 'Francheville': 243, 'Frontenas': 257, 'Genas': 59, 'Genay': 83, 'Givors': 228, 'Gleizé': 144, 'Grandris': 78, 'Grigny': 15, 'Grézieu-la-Varenne': 232, 'Grézieu-le-Marché': 133, 'Haute-Rivoire': 251, 'Irigny': 42, 'Jonage': 39, 'Jons': 137, 'Joux': 158, 'Juliénas': 99, 'Jullié': 168, \"L'Arbresle\": 194, 'La Chapelle-sur-Coise': 164, 'La Mulatière': 75, 'La Tour-de-Salvagny': 255, 'Lacenas': 76, 'Lachassagne': 103, 'Lamure-sur-Azergues': 136, 'Lancié': 231, 'Lantignié': 115, 'Larajasse': 134, 'Le Breuil': 108, 'Le Perréon': 109, 'Lentilly': 58, 'Les Ardillats': 271, 'Les Chères': 112, 'Les Haies': 113, 'Les Halles': 7, 'Les Sauvages': 151, 'Limas': 34, 'Limonest': 55, 'Lissieu': 237, 'Loire-sur-Rhône': 17, 'Longes': 269, 'Longessaigne': 28, 'Lozanne': 9, 'Lucenay': 235, 'Lyon 1er Arrondissement': 125, 'Lyon 2e Arrondissement': 129, 'Lyon 3e Arrondissement': 130, 'Lyon 4e Arrondissement': 169, 'Lyon 5e Arrondissement': 126, 'Lyon 6e Arrondissement': 267, 'Lyon 7e Arrondissement': 273, 'Lyon 8e Arrondissement': 128, 'Lyon 9e Arrondissement': 131, 'Légny': 183, 'Létra': 210, 'Marchampt': 94, \"Marcilly-d'Azergues\": 204, 'Marcy': 149, \"Marcy-l'Étoile\": 118, 'Marennes': 139, 'Meaux-la-Montagne': 198, 'Messimy': 30, 'Meys': 97, 'Meyzieu': 190, 'Millery': 13, 'Mions': 88, 'Moiré': 11, 'Montagny': 141, 'Montanay': 79, 'Montmelas-Saint-Sorlin': 4, 'Montromant': 199, 'Montrottier': 254, 'Morancé': 123, 'Mornant': 61, 'Neuville-sur-Saône': 81, 'Odenas': 48, 'Orliénas': 41, 'Oullins-Pierre-Bénite': 256, \"Poleymieux-au-Mont-d'Or\": 220, 'Pollionnay': 159, 'Pomeys': 160, 'Pommiers': 45, 'Porte des Pierres Dorées': 224, 'Poule-les-Écharmeaux': 163, 'Propières': 1, 'Pusignan': 209, 'Quincieux': 86, 'Quincié-en-Beaujolais': 65, 'Ranchal': 12, 'Rillieux-la-Pape': 124, 'Riverie': 96, 'Rivolet': 142, 'Rochetaillée-sur-Saône': 77, 'Ronno': 0, 'Rontalon': 40, 'Régnié-Durette': 105, 'Sain-Bel': 266, 'Saint-André-la-Côte': 52, 'Saint-Appolinaire': 181, 'Saint-Bonnet-de-Mure': 21, 'Saint-Bonnet-des-Bruyères': 217, 'Saint-Bonnet-le-Troncy': 178, 'Saint-Clément-de-Vers': 173, 'Saint-Clément-les-Places': 260, 'Saint-Clément-sur-Valsonne': 82, \"Saint-Cyr-au-Mont-d'Or\": 5, 'Saint-Cyr-le-Chatoux': 229, 'Saint-Cyr-sur-le-Rhône': 187, \"Saint-Didier-au-Mont-d'Or\": 110, 'Saint-Didier-sur-Beaujeu': 46, 'Saint-Fons': 74, 'Saint-Forgeux': 38, 'Saint-Genis-Laval': 270, \"Saint-Genis-l'Argentière\": 193, 'Saint-Genis-les-Ollières': 84, 'Saint-Georges-de-Reneins': 225, 'Saint-Germain-Nuelles': 196, \"Saint-Germain-au-Mont-d'Or\": 44, 'Saint-Igny-de-Vers': 114, 'Saint-Jean-des-Vignes': 171, 'Saint-Jean-la-Bussière': 268, 'Saint-Julien': 201, 'Saint-Julien-sur-Bibost': 50, \"Saint-Just-d'Avray\": 247, 'Saint-Lager': 19, \"Saint-Laurent-d'Agny\": 69, 'Saint-Laurent-de-Chamousset': 68, 'Saint-Laurent-de-Mure': 246, \"Saint-Marcel-l'Éclairé\": 208, 'Saint-Martin-en-Haut': 166, \"Saint-Nizier-d'Azergues\": 31, 'Saint-Pierre-de-Chandieu': 265, 'Saint-Pierre-la-Palud': 216, 'Saint-Priest': 157, \"Saint-Romain-au-Mont-d'Or\": 214, 'Saint-Romain-de-Popey': 215, 'Saint-Romain-en-Gal': 14, 'Saint-Romain-en-Gier': 121, \"Saint-Symphorien-d'Ozon\": 67, 'Saint-Symphorien-sur-Coise': 248, 'Saint-Vincent-de-Reins': 95, 'Saint-Vérand': 221, 'Saint-Étienne-des-Oullières': 212, 'Saint-Étienne-la-Varenne': 223, 'Sainte-Catherine': 175, 'Sainte-Colombe': 117, 'Sainte-Consorce': 104, \"Sainte-Foy-l'Argentière\": 156, 'Sainte-Foy-lès-Lyon': 244, 'Sainte-Paule': 186, 'Salles-Arbuissonnas-en-Beaujolais': 230, 'Sarcey': 226, 'Sathonay-Camp': 8, 'Sathonay-Village': 233, 'Savigny': 172, 'Simandres': 155, 'Solaize': 236, 'Soucieu-en-Jarrest': 165, 'Sourcieux-les-Mines': 102, 'Souzy': 239, 'Sérézin-du-Rhône': 195, 'Taluyers': 241, 'Taponas': 242, 'Tarare': 192, 'Tassin-la-Demi-Lune': 143, 'Ternand': 245, 'Ternay': 153, 'Theizé': 73, 'Thizy-les-Bourgs': 2, 'Thurins': 250, 'Toussieu': 176, 'Trèves': 135, 'Tupin-et-Semons': 252, \"Val d'Oingt\": 138, 'Valsonne': 184, 'Vaugneray': 197, 'Vaulx-en-Velin': 27, 'Vaux-en-Beaujolais': 16, 'Vauxrenard': 258, 'Vernaison': 218, 'Ville-sur-Jarnioux': 91, 'Villechenève': 120, 'Villefranche-sur-Saône': 127, 'Villeurbanne': 263, 'Villié-Morgon': 87, 'Vindry-sur-Turdine': 253, 'Vourles': 93, 'Vénissieux': 132, 'Yzeron': 191, 'Échalas': 272, 'Écully': 85, 'Émeringes': 180, 'Éveux': 203}\n",
      "\n",
      "Isolation_toiture_(0/1) Dictionary with tags from df and values from df_enc for Isolation_toiture_(0/1):\n",
      "{'False': 0, 'Inconnue': 1, 'True': 2}\n"
     ]
    }
   ],
   "source": [
    "# Loop through the specified columns\n",
    "for col in [\n",
    "    'Etiquette_DPE', \n",
    "    'Type_bâtiment', \n",
    "    'Classe_inertie_bâtiment', \n",
    "    'Type_énergie_principale_chauffage', \n",
    "    'nom_commune', \n",
    "    'Isolation_toiture_(0/1)'\n",
    "]:\n",
    "    # Get the value counts for the encoded dataframe\n",
    "    unique_values_enc = df_enc[col].value_counts()\n",
    "    \n",
    "    # Get the value counts for the original dataframe\n",
    "    unique_values_df = df[col].value_counts()\n",
    "    \n",
    "    # Create a dictionary mapping original tags to encoded values\n",
    "    tag_value_dict = {tag: val for tag, val in zip(unique_values_df.index, unique_values_enc.index)}\n",
    "    \n",
    "    # Print the dictionary for the current column\n",
    "    print(f\"\\n{col} Dictionary with tags from df and values from df_enc for {col}:\")\n",
    "    \n",
    "    # Sort the dictionary by keys\n",
    "    sorted_tag_value_dict = dict(sorted(tag_value_dict.items()))\n",
    "    \n",
    "    # Print the sorted dictionary\n",
    "    print(sorted_tag_value_dict)"
   ]
  },
  {
   "cell_type": "code",
   "execution_count": 66,
   "metadata": {},
   "outputs": [
    {
     "data": {
      "text/plain": [
       "array([1, 0, 2])"
      ]
     },
     "execution_count": 66,
     "metadata": {},
     "output_type": "execute_result"
    }
   ],
   "source": [
    "df_enc['Isolation_toiture_(0/1)'].unique()"
   ]
  },
  {
   "cell_type": "code",
   "execution_count": 67,
   "metadata": {},
   "outputs": [],
   "source": [
    "# encoded_values"
   ]
  },
  {
   "cell_type": "code",
   "execution_count": 68,
   "metadata": {},
   "outputs": [
    {
     "data": {
      "text/plain": [
       "Etiquette_DPE                             0\n",
       "Type_bâtiment                             0\n",
       "Année_construction                    77850\n",
       "Classe_inertie_bâtiment                1292\n",
       "Hauteur_sous-plafond                      0\n",
       "Surface_habitable_logement              278\n",
       "Type_énergie_principale_chauffage      6759\n",
       "Isolation_toiture_(0/1)              103160\n",
       "Code_postal_(BAN)                         0\n",
       "Conso_5_usages_é_finale                   0\n",
       "dtype: int64"
      ]
     },
     "execution_count": 68,
     "metadata": {},
     "output_type": "execute_result"
    }
   ],
   "source": [
    "#On enlève les NA de la conso \n",
    "df_dpe_filtered = df_dpe_filtered.dropna(subset=[\"Conso_5_usages_é_finale\"])\n",
    "df_dpe_filtered.isnull().sum()"
   ]
  },
  {
   "cell_type": "code",
   "execution_count": 69,
   "metadata": {},
   "outputs": [
    {
     "name": "stderr",
     "output_type": "stream",
     "text": [
      "/var/folders/fj/25hghm0n7n33b98vlpmy81dm0000gn/T/ipykernel_49335/4080172161.py:2: UserWarning: Boolean Series key will be reindexed to match DataFrame index.\n",
      "  df_dpe_filtered = df_dpe_filtered[df_enc['Type_bâtiment'] != 'immeuble']\n"
     ]
    },
    {
     "data": {
      "text/plain": [
       "(224546, 10)"
      ]
     },
     "execution_count": 69,
     "metadata": {},
     "output_type": "execute_result"
    }
   ],
   "source": [
    "#On enlève les \"immeubles\"\n",
    "df_dpe_filtered = df_dpe_filtered[df_enc['Type_bâtiment'] != 'immeuble']\n",
    "df_dpe_filtered.shape"
   ]
  },
  {
   "cell_type": "code",
   "execution_count": 70,
   "metadata": {},
   "outputs": [
    {
     "name": "stdout",
     "output_type": "stream",
     "text": [
      "<class 'pandas.core.frame.DataFrame'>\n",
      "Index: 224546 entries, 0 to 290823\n",
      "Data columns (total 10 columns):\n",
      " #   Column                             Non-Null Count   Dtype  \n",
      "---  ------                             --------------   -----  \n",
      " 0   Etiquette_DPE                      224546 non-null  object \n",
      " 1   Type_bâtiment                      224546 non-null  object \n",
      " 2   Année_construction                 146696 non-null  float64\n",
      " 3   Classe_inertie_bâtiment            223254 non-null  object \n",
      " 4   Hauteur_sous-plafond               224546 non-null  float64\n",
      " 5   Surface_habitable_logement         224268 non-null  float64\n",
      " 6   Type_énergie_principale_chauffage  217787 non-null  object \n",
      " 7   Isolation_toiture_(0/1)            121386 non-null  object \n",
      " 8   Code_postal_(BAN)                  224546 non-null  int64  \n",
      " 9   Conso_5_usages_é_finale            224546 non-null  float64\n",
      "dtypes: float64(4), int64(1), object(5)\n",
      "memory usage: 18.8+ MB\n"
     ]
    }
   ],
   "source": [
    "df_dpe_filtered = df_dpe_filtered.dropna(subset=target)\n",
    "df_dpe_filtered.info()"
   ]
  },
  {
   "cell_type": "code",
   "execution_count": 71,
   "metadata": {},
   "outputs": [
    {
     "data": {
      "text/plain": [
       "(203576, 9)"
      ]
     },
     "execution_count": 71,
     "metadata": {},
     "output_type": "execute_result"
    }
   ],
   "source": [
    "#Séparation variables explicatives et variable cible \n",
    "X = df_enc[var_explicatives]\n",
    "X = X.fillna(0)\n",
    "y = df_enc[target]\n",
    "y = y.fillna(0)\n",
    "\n",
    "#Train / Test Split\n",
    "from sklearn.model_selection import train_test_split\n",
    "X_train, X_test, y_train, y_test = train_test_split(X, y, test_size=0.3, random_state=0)\n",
    "\n",
    "X_train.shape"
   ]
  },
  {
   "cell_type": "code",
   "execution_count": 72,
   "metadata": {},
   "outputs": [],
   "source": [
    "#Colonnes numériques et catégorielles / traitement spécifique pour isolation toiture \n",
    "num_features = [\"Année_construction\", \"Hauteur_sous-plafond\", \"Surface_habitable_logement\"]\n",
    "iso_feature = [\"Isolation_toiture_(0/1)\"]\n",
    "cat_features = [\"Etiquette_DPE\", \"Type_bâtiment\", \"Classe_inertie_bâtiment\", \"Type_énergie_principale_chauffage\"]  "
   ]
  },
  {
   "cell_type": "code",
   "execution_count": 73,
   "metadata": {},
   "outputs": [],
   "source": [
    "# Define the numerical transformer\n",
    "num_transformer = Pipeline(steps=[\n",
    "    ('imputer', SimpleImputer(strategy='median'))\n",
    "])\n",
    "\n",
    "# Define the categorical transformer\n",
    "cat_transformer = Pipeline(steps=[\n",
    "    ('imputer', SimpleImputer(strategy='most_frequent')),\n",
    "    ('encoder', ce.OneHotEncoder(handle_unknown='ignore'))\n",
    "])\n",
    "\n",
    "# Define the preprocessor\n",
    "preprocessor = ColumnTransformer(\n",
    "    transformers=[\n",
    "        ('num', num_transformer, num_features),\n",
    "        ('cat', cat_transformer, cat_features)\n",
    "    ]\n",
    ")\n",
    "\n",
    "# Define the pipeline\n",
    "pipeline = Pipeline(steps=[\n",
    "    ('preprocessor', preprocessor),\n",
    "    ('regressor', DecisionTreeRegressor(max_depth=10, min_samples_leaf=4, min_samples_split=10))\n",
    "])\n",
    "\n"
   ]
  },
  {
   "cell_type": "code",
   "execution_count": 74,
   "metadata": {},
   "outputs": [
    {
     "name": "stdout",
     "output_type": "stream",
     "text": [
      "Warning: No categorical columns found. Calling 'transform' will only return input data.\n",
      "R-squared value: 0.8830648669187138\n"
     ]
    }
   ],
   "source": [
    "import pickle\n",
    "from sklearn.metrics import r2_score\n",
    "\n",
    "\n",
    "# Pipeline final avec les données encodées et imputées\n",
    "pipeline.fit(X_train, y_train.values.ravel())\n",
    "\n",
    "# Sauvegarde du pipeline complet\n",
    "with open('pipeline_ml_regression.pkl', 'wb') as file:\n",
    "    pickle.dump(pipeline, file)\n",
    "    \n",
    "# Predict on the test data\n",
    "y_pred = pipeline.predict(X_test)\n",
    "\n",
    "# Calculate the R-squared value\n",
    "r2 = r2_score(y_test, y_pred)\n",
    "print(f\"R-squared value: {r2}\")"
   ]
  },
  {
   "cell_type": "code",
   "execution_count": 75,
   "metadata": {},
   "outputs": [
    {
     "data": {
      "text/plain": [
       "['pipeline_ml_regression.pkl']"
      ]
     },
     "execution_count": 75,
     "metadata": {},
     "output_type": "execute_result"
    }
   ],
   "source": [
    "import joblib\n",
    "\n",
    "# Save the pipeline to a pickle file\n",
    "joblib.dump(pipeline, 'pipeline_ml_regression.pkl')"
   ]
  },
  {
   "cell_type": "code",
   "execution_count": 76,
   "metadata": {},
   "outputs": [
    {
     "name": "stdout",
     "output_type": "stream",
     "text": [
      "{\n",
      "    \"Etiquette_DPE\": 3.0,\n",
      "    \"Type_b\\u00e2timent\": 0.0,\n",
      "    \"Ann\\u00e9e_construction\": 1918.0,\n",
      "    \"Classe_inertie_b\\u00e2timent\": 2.0,\n",
      "    \"Hauteur_sous-plafond\": 2.5,\n",
      "    \"Surface_habitable_logement\": 42.0,\n",
      "    \"Type_\\u00e9nergie_principale_chauffage\": 10.0,\n",
      "    \"Isolation_toiture_(0/1)\": 0.0,\n",
      "    \"Code_postal_(BAN)\": 69002.0\n",
      "}\n"
     ]
    }
   ],
   "source": [
    "import json\n",
    "\n",
    "# Get the first row of X_train\n",
    "first_row = X_train.iloc[0]\n",
    "\n",
    "# Convert the row to a dictionary\n",
    "first_row_dict = first_row.to_dict()\n",
    "\n",
    "# Convert the dictionary to a JSON string\n",
    "first_row_json = json.dumps(first_row_dict, indent=4)\n",
    "\n",
    "print(first_row_json)"
   ]
  },
  {
   "cell_type": "code",
   "execution_count": 77,
   "metadata": {},
   "outputs": [
    {
     "data": {
      "text/html": [
       "<div>\n",
       "<style scoped>\n",
       "    .dataframe tbody tr th:only-of-type {\n",
       "        vertical-align: middle;\n",
       "    }\n",
       "\n",
       "    .dataframe tbody tr th {\n",
       "        vertical-align: top;\n",
       "    }\n",
       "\n",
       "    .dataframe thead th {\n",
       "        text-align: right;\n",
       "    }\n",
       "</style>\n",
       "<table border=\"1\" class=\"dataframe\">\n",
       "  <thead>\n",
       "    <tr style=\"text-align: right;\">\n",
       "      <th></th>\n",
       "      <th>Etiquette_DPE</th>\n",
       "      <th>Type_bâtiment</th>\n",
       "      <th>Année_construction</th>\n",
       "      <th>Classe_inertie_bâtiment</th>\n",
       "      <th>Hauteur_sous-plafond</th>\n",
       "      <th>Surface_habitable_logement</th>\n",
       "      <th>Type_énergie_principale_chauffage</th>\n",
       "      <th>Isolation_toiture_(0/1)</th>\n",
       "      <th>Code_postal_(BAN)</th>\n",
       "    </tr>\n",
       "  </thead>\n",
       "  <tbody>\n",
       "    <tr>\n",
       "      <th>133341</th>\n",
       "      <td>3.0</td>\n",
       "      <td>0.0</td>\n",
       "      <td>1918.0</td>\n",
       "      <td>2.0</td>\n",
       "      <td>2.5</td>\n",
       "      <td>42.0</td>\n",
       "      <td>10.0</td>\n",
       "      <td>0.0</td>\n",
       "      <td>69002.0</td>\n",
       "    </tr>\n",
       "  </tbody>\n",
       "</table>\n",
       "</div>"
      ],
      "text/plain": [
       "        Etiquette_DPE  Type_bâtiment  Année_construction  \\\n",
       "133341            3.0            0.0              1918.0   \n",
       "\n",
       "        Classe_inertie_bâtiment  Hauteur_sous-plafond  \\\n",
       "133341                      2.0                   2.5   \n",
       "\n",
       "        Surface_habitable_logement  Type_énergie_principale_chauffage  \\\n",
       "133341                        42.0                               10.0   \n",
       "\n",
       "        Isolation_toiture_(0/1)  Code_postal_(BAN)  \n",
       "133341                      0.0            69002.0  "
      ]
     },
     "execution_count": 77,
     "metadata": {},
     "output_type": "execute_result"
    }
   ],
   "source": [
    "first_row_df = pd.DataFrame([first_row])\n",
    "first_row_df"
   ]
  },
  {
   "cell_type": "code",
   "execution_count": 78,
   "metadata": {},
   "outputs": [
    {
     "name": "stdout",
     "output_type": "stream",
     "text": [
      "[4006.08246753]\n"
     ]
    }
   ],
   "source": [
    "import joblib\n",
    "\n",
    "# Load the pipeline from the pickle file\n",
    "pipeline = joblib.load('pipeline_ml_regression.pkl')\n",
    "\n",
    "# Make predictions using the loaded pipeline\n",
    "y_pred = pipeline.predict(first_row_df)\n",
    "print(y_pred)"
   ]
  },
  {
   "cell_type": "code",
   "execution_count": null,
   "metadata": {},
   "outputs": [],
   "source": []
  },
  {
   "cell_type": "code",
   "execution_count": 79,
   "metadata": {},
   "outputs": [
    {
     "data": {
      "text/html": [
       "<div>\n",
       "<style scoped>\n",
       "    .dataframe tbody tr th:only-of-type {\n",
       "        vertical-align: middle;\n",
       "    }\n",
       "\n",
       "    .dataframe tbody tr th {\n",
       "        vertical-align: top;\n",
       "    }\n",
       "\n",
       "    .dataframe thead th {\n",
       "        text-align: right;\n",
       "    }\n",
       "</style>\n",
       "<table border=\"1\" class=\"dataframe\">\n",
       "  <thead>\n",
       "    <tr style=\"text-align: right;\">\n",
       "      <th></th>\n",
       "      <th>etiquette_dpe</th>\n",
       "      <th>type_batiment</th>\n",
       "      <th>annee_construction</th>\n",
       "      <th>classe_inertie_batiment</th>\n",
       "      <th>hauteur_sous_plafond</th>\n",
       "      <th>surface_habitable_logement</th>\n",
       "      <th>type_energie_principale_chauffage</th>\n",
       "      <th>isolation_toiture</th>\n",
       "      <th>code_postal_ban</th>\n",
       "    </tr>\n",
       "  </thead>\n",
       "  <tbody>\n",
       "    <tr>\n",
       "      <th>0</th>\n",
       "      <td>3.0</td>\n",
       "      <td>0.0</td>\n",
       "      <td>1921.0</td>\n",
       "      <td>1.0</td>\n",
       "      <td>3.1</td>\n",
       "      <td>50.2</td>\n",
       "      <td>11.0</td>\n",
       "      <td>1.0</td>\n",
       "      <td>69002.0</td>\n",
       "    </tr>\n",
       "  </tbody>\n",
       "</table>\n",
       "</div>"
      ],
      "text/plain": [
       "   etiquette_dpe  type_batiment  annee_construction  classe_inertie_batiment  \\\n",
       "0            3.0            0.0              1921.0                      1.0   \n",
       "\n",
       "   hauteur_sous_plafond  surface_habitable_logement  \\\n",
       "0                   3.1                        50.2   \n",
       "\n",
       "   type_energie_principale_chauffage  isolation_toiture  code_postal_ban  \n",
       "0                               11.0                1.0          69002.0  "
      ]
     },
     "execution_count": 79,
     "metadata": {},
     "output_type": "execute_result"
    }
   ],
   "source": [
    "import pandas as pd\n",
    "\n",
    "data = {\n",
    "    \"etiquette_dpe\": 3.0,\n",
    "    \"type_batiment\": 0.0,\n",
    "    \"annee_construction\": 1921.0,\n",
    "    \"classe_inertie_batiment\": 1.0,\n",
    "    \"hauteur_sous_plafond\": 3.1,\n",
    "    \"surface_habitable_logement\": 50.2,\n",
    "    \"type_energie_principale_chauffage\": 11.0,\n",
    "    \"isolation_toiture\": 1.0,\n",
    "    \"code_postal_ban\": 69002.0\n",
    "}\n",
    "\n",
    "df_new = pd.DataFrame([data])\n",
    "df_new\n"
   ]
  },
  {
   "cell_type": "code",
   "execution_count": 80,
   "metadata": {},
   "outputs": [],
   "source": [
    "model = joblib.load(\"../models/pipeline_ml_regression.pkl\")"
   ]
  },
  {
   "cell_type": "code",
   "execution_count": 82,
   "metadata": {},
   "outputs": [],
   "source": [
    "\n",
    "del df"
   ]
  }
 ],
 "metadata": {
  "kernelspec": {
   "display_name": "m2_python_ml",
   "language": "python",
   "name": "python3"
  },
  "language_info": {
   "codemirror_mode": {
    "name": "ipython",
    "version": 3
   },
   "file_extension": ".py",
   "mimetype": "text/x-python",
   "name": "python",
   "nbconvert_exporter": "python",
   "pygments_lexer": "ipython3",
   "version": "3.11.10"
  }
 },
 "nbformat": 4,
 "nbformat_minor": 2
}
