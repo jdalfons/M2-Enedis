{
 "cells": [
  {
   "cell_type": "code",
   "execution_count": null,
   "metadata": {},
   "outputs": [],
   "source": [
    "import pandas as pd\n",
    "# Import Excel with columns (Variables Explicatives) expected for this script\n",
    "df = pd.read_excel('extract-dpe-cut.xlsx')"
   ]
  },
  {
   "cell_type": "code",
   "execution_count": null,
   "metadata": {},
   "outputs": [],
   "source": [
    "ls_variables_explicatives = ['Année_construction','Surface_habitable_logement','Coût_total_5_usages','Coût_ECS','Coût_chauffage','Coût_éclairage','Coût_auxiliaires','Coût_refroidissement']\n",
    "X = df[ls_variables_explicatives]\n",
    "y = df['Etiquette_DPE']"
   ]
  },
  {
   "cell_type": "code",
   "execution_count": null,
   "metadata": {},
   "outputs": [],
   "source": [
    "from sklearn.model_selection import train_test_split\n",
    "from sklearn.preprocessing import StandardScaler, LabelEncoder\n",
    "from sklearn.compose import ColumnTransformer\n",
    "from sklearn.pipeline import Pipeline\n",
    "from sklearn.ensemble import RandomForestClassifier\n",
    "from sklearn.metrics import classification_report\n",
    "from sklearn.impute import SimpleImputer\n",
    "\n",
    "# Exemple de données X et y (assurez-vous que X et y sont définis dans votre code)\n",
    "# X = pd.DataFrame(...)  # Remplacez avec vos données\n",
    "# y = ...\n",
    "\n",
    "# Encodage des étiquettes\n",
    "label_encoder = LabelEncoder()\n",
    "y_encoded = label_encoder.fit_transform(y)\n",
    "\n",
    "# Division en ensemble d'entraînement et de test\n",
    "X_train, X_test, y_train, y_test = train_test_split(X, y_encoded, test_size=0.2, random_state=42)\n",
    "\n",
    "# Identification des colonnes numériques et catégorielles\n",
    "# numeric_features = ['Surface_habitable_logement', 'Coût_total_5_usages',\n",
    "#                     'Coût_ECS', 'Coût_chauffage', 'Coût_éclairage', 'Coût_auxiliaires', 'Coût_refroidissement','Année_construction']\n",
    "numeric_features = ['Année_construction','Surface_habitable_logement','Coût_total_5_usages','Coût_ECS','Coût_chauffage','Coût_éclairage','Coût_auxiliaires','Coût_refroidissement']\n",
    "\n",
    "\n",
    "# Préprocesseur pour imputer, normaliser les données numériques et encoder les catégories\n",
    "preprocessor = ColumnTransformer(\n",
    "    transformers=[\n",
    "        ('num', Pipeline(steps=[\n",
    "            ('imputer', SimpleImputer(strategy='mean')),  # Impute avec la moyenne pour les numériques\n",
    "            ('scaler', StandardScaler())  # Normalisation des données numériques\n",
    "        ]), numeric_features),\n",
    "    ])\n",
    "\n",
    "# Pipeline avec prétraitement et modèle de classification\n",
    "pipeline = Pipeline(steps=[\n",
    "    ('preprocessor', preprocessor),\n",
    "    ('classifier', RandomForestClassifier(random_state=42, n_estimators=5, max_depth=30))\n",
    "])\n",
    "\n",
    "# Entraînement du modèle\n",
    "pipeline.fit(X_train, y_train)\n",
    "\n",
    "# Prédiction sur l'ensemble de test\n",
    "y_pred = pipeline.predict(X_test)\n",
    "\n",
    "# Évaluation du modèle\n",
    "print(classification_report(y_test, y_pred, target_names=label_encoder.classes_))\n"
   ]
  },
  {
   "cell_type": "code",
   "execution_count": null,
   "metadata": {},
   "outputs": [],
   "source": [
    "import joblib\n",
    "joblib.dump((pipeline, label_encoder),'modele_classif2.pkl', compress=3)"
   ]
  }
 ],
 "metadata": {
  "kernelspec": {
   "display_name": "m2_python_ml",
   "language": "python",
   "name": "python3"
  },
  "language_info": {
   "codemirror_mode": {
    "name": "ipython",
    "version": 3
   },
   "file_extension": ".py",
   "mimetype": "text/x-python",
   "name": "python",
   "nbconvert_exporter": "python",
   "pygments_lexer": "ipython3",
   "version": "3.11.10"
  }
 },
 "nbformat": 4,
 "nbformat_minor": 2
}
